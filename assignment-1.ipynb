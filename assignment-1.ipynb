{
 "cells": [
  {
   "cell_type": "code",
   "execution_count": null,
   "id": "f262400e-bb25-43d6-938c-e08e892532ea",
   "metadata": {},
   "outputs": [],
   "source": [
    "user_count=int(input("\enter the subject count:\"))\n",
    "user_name=input("\enter the name:\")\n",
    "sub=[]\n",
    "sub_mark=[]\n",
    "if (user_count>=1): \n",
    "    print(\"--------enter subject name---------\")\n",
    "    print(\"-----give only less than 6 subjects-----\")\n",
    "    for i in range(user_count):\n",
    "        print(\"--------------------------------------------\")\n",
    "        sub.append(str(input(f\"enter subject name:\")))\n",
    "        sub_mark.append(int(input(f\"enter subject mark:\"))) \n",
    "#............giving a mark grade............\n",
    "def cal():\n",
    "  sums=sum(sub_mark)\n",
    "  divs=sums/user_count\n",
    "  print(sums)\n",
    "  print(divs,\"%\")\n",
    "  print(sub)\n",
    "  print(sub_mark)   \n",
    "  if user_count in [6, 5, 4, 3, 2, 1]  and (90 <= divs <= 100):\n",
    "    print('your grade is \"A\"')\n",
    "  elif user_count in [6, 5, 4, 3, 2, 1] and (80 <= divs <=90):\n",
    "    print('your grade is \"B\"')\n",
    "  elif user_count in [6, 5, 4, 3, 2, 1] and (70<= divs <=80):\n",
    "    print('your grade is \"C\"')\n",
    "  elif user_count in [6, 5, 4, 3, 2, 1] and (60<= divs <=70):\n",
    "    print('your grade is \"D\"')\n",
    "  elif user_count in [6, 5, 4, 3, 2, 1] and (0 <= divs <=60):\n",
    "    print('your grade is \"F\"')\n",
    "  else:\n",
    "    print('Invalid score or arrear')\n",
    "print(cal())"
   ]
  }
 ],
 "metadata": {
  "kernelspec": {
   "display_name": "Python 3 (ipykernel)",
   "language": "python",
   "name": "python3"
  },
  "language_info": {
   "codemirror_mode": {
    "name": "ipython",
    "version": 3
   },
   "file_extension": ".py",
   "mimetype": "text/x-python",
   "name": "python",
   "nbconvert_exporter": "python",
   "pygments_lexer": "ipython3",
   "version": "3.11.5"
  }
 },
 "nbformat": 4,
 "nbformat_minor": 5
}
